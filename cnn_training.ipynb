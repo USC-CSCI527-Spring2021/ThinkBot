{
 "cells": [
  {
   "cell_type": "markdown",
   "metadata": {},
   "source": [
    "# Convolutional Neural Networks\n",
    "---\n"
   ]
  },
  {
   "cell_type": "markdown",
   "metadata": {},
   "source": [
    "### Test for [CUDA](http://pytorch.org/docs/stable/cuda.html)\n",
    "\n",
    "Since these are larger (32x32x3) images, it may prove useful to speed up your training time by using a GPU. CUDA is a parallel computing platform and CUDA Tensors are the same as typical Tensors, only they utilize GPU's for computation."
   ]
  },
  {
   "cell_type": "code",
   "execution_count": 3,
   "metadata": {},
   "outputs": [
    {
     "name": "stdout",
     "output_type": "stream",
     "text": [
      "CUDA is not available.  Training on CPU ...\n"
     ]
    }
   ],
   "source": [
    "import torch\n",
    "import numpy as np\n",
    "\n",
    "# check if CUDA is available\n",
    "train_on_gpu = torch.cuda.is_available()\n",
    "\n",
    "if not train_on_gpu:\n",
    "    print('CUDA is not available.  Training on CPU ...')\n",
    "else:\n",
    "    print('CUDA is available!  Training on GPU ...')"
   ]
  },
  {
   "cell_type": "markdown",
   "metadata": {},
   "source": [
    "---\n",
    "## Load the [Data](http://pytorch.org/docs/stable/torchvision/datasets.html)\n",
    "\n",
    "Downloading may take a minute. We load in the training and test data, split the training data into a training and validation set, then create DataLoaders for each of these sets of data."
   ]
  },
  {
   "cell_type": "code",
   "execution_count": 4,
   "metadata": {},
   "outputs": [],
   "source": [
    "\n",
    "from torchvision import datasets\n",
    "import torchvision.transforms as transforms\n",
    "from torch.utils.data.sampler import SubsetRandomSampler\n",
    "\n",
    "# number of subprocesses to use for data loading\n",
    "num_workers = 0\n",
    "# how many samples per batch to load\n",
    "batch_size = 20\n",
    "# percentage of training set to use as validation\n",
    "valid_size = 0.2\n",
    "\n",
    "# convert data to a normalized torch.FloatTensor\n",
    "transform = transforms.Compose([\n",
    "    transforms.Resize((32,32)),\n",
    "    transforms.ToTensor(),\n",
    "    transforms.Normalize((0.5, 0.5, 0.5), (0.5, 0.5, 0.5))\n",
    "    ])\n",
    "\n",
    "# choose the training and test datasets\n",
    "# train_data = datasets.CIFAR10('data', train=True,\n",
    "#                               download=True, transform=transform)\n",
    "# test_data = datasets.CIFAR10('data', train=False,\n",
    "#                              download=True, transform=transform)\n",
    "\n",
    "train_data = datasets.ImageFolder(root='Archive/train',\n",
    "                                           transform=transform)\n",
    "test_data = datasets.ImageFolder(root='Archive/test1',\n",
    "                                           transform=transform)\n",
    "\n",
    "\n",
    "\n",
    "# obtain training indices that will be used for validation\n",
    "num_train = len(train_data)\n",
    "indices = list(range(num_train))\n",
    "np.random.shuffle(indices)\n",
    "split = int(np.floor(valid_size * num_train))\n",
    "train_idx, valid_idx = indices[split:], indices[:split]\n",
    "\n",
    "# define samplers for obtaining training and validation batches\n",
    "train_sampler = SubsetRandomSampler(train_idx)\n",
    "valid_sampler = SubsetRandomSampler(valid_idx)\n",
    "\n",
    "# prepare data loaders (combine dataset and sampler)\n",
    "train_loader = torch.utils.data.DataLoader(train_data, batch_size=batch_size,\n",
    "    sampler=train_sampler, num_workers=num_workers)\n",
    "valid_loader = torch.utils.data.DataLoader(train_data, batch_size=batch_size, \n",
    "    sampler=valid_sampler, num_workers=num_workers)\n",
    "test_loader = torch.utils.data.DataLoader(test_data, batch_size=batch_size, \n",
    "    num_workers=num_workers)\n",
    "\n",
    "# specify the image classes\n",
    "classes = [\"LEFT\",\"RIGHT\"]\n",
    "# classes = ['airplane', 'automobile', 'bird', 'cat', 'deer',\n",
    "#            'dog', 'frog', 'horse', 'ship', 'truck']"
   ]
  },
  {
   "cell_type": "markdown",
   "metadata": {},
   "source": [
    "### Visualize a Batch of Training Data"
   ]
  },
  {
   "cell_type": "code",
   "execution_count": 5,
   "metadata": {},
   "outputs": [],
   "source": [
    "import matplotlib.pyplot as plt\n",
    "%matplotlib inline\n",
    "\n",
    "# helper function to un-normalize and display an image\n",
    "def imshow(img):\n",
    "    img = img / 2 + 0.5  # unnormalize\n",
    "    plt.imshow(np.transpose(img, (1, 2, 0)))  # convert from Tensor image"
   ]
  },
  {
   "cell_type": "code",
   "execution_count": 6,
   "metadata": {
    "scrolled": true
   },
   "outputs": [
    {
     "name": "stderr",
     "output_type": "stream",
     "text": [
      "<ipython-input-6-70c03edab485>:10: MatplotlibDeprecationWarning: Passing non-integers as three-element position specification is deprecated since 3.3 and will be removed two minor releases later.\n",
      "  ax = fig.add_subplot(2, 20/2, idx+1, xticks=[], yticks=[])\n"
     ]
    },
    {
     "data": {
      "image/png": "[encoded data removed]",
      "text/plain": [
       "<Figure size 1080x288 with 20 Axes>"
      ]
     },
     "metadata": {},
     "output_type": "display_data"
    }
   ],
   "source": [
    "# obtain one batch of training images\n",
    "dataiter = iter(test_loader)\n",
    "images, labels = dataiter.next()\n",
    "images = images.numpy() # convert images to numpy for display\n",
    "\n",
    "# plot the images in the batch, along with the corresponding labels\n",
    "fig = plt.figure(figsize=(15, 4))\n",
    "# display 20 images\n",
    "for idx in np.arange(20):\n",
    "    ax = fig.add_subplot(2, 20/2, idx+1, xticks=[], yticks=[])\n",
    "    imshow(images[idx])\n",
    "    ax.set_title(classes[labels[idx]])"
   ]
  },
  {
   "cell_type": "code",
   "execution_count": 7,
   "metadata": {
    "scrolled": true
   },
   "outputs": [
    {
     "name": "stdout",
     "output_type": "stream",
     "text": [
      "Net(\n",
      "  (conv1): Conv2d(3, 16, kernel_size=(3, 3), stride=(1, 1), padding=(1, 1))\n",
      "  (conv2): Conv2d(16, 32, kernel_size=(3, 3), stride=(1, 1), padding=(1, 1))\n",
      "  (conv3): Conv2d(32, 64, kernel_size=(3, 3), stride=(1, 1), padding=(1, 1))\n",
      "  (pool): MaxPool2d(kernel_size=2, stride=2, padding=0, dilation=1, ceil_mode=False)\n",
      "  (fc1): Linear(in_features=1024, out_features=500, bias=True)\n",
      "  (fc2): Linear(in_features=500, out_features=2, bias=True)\n",
      "  (dropout): Dropout(p=0.25, inplace=False)\n",
      ")\n"
     ]
    }
   ],
   "source": [
    "import torch.nn as nn\n",
    "import torch.nn.functional as F\n",
    "\n",
    "# define the CNN architecture\n",
    "class Net(nn.Module):\n",
    "    def __init__(self):\n",
    "        super(Net, self).__init__()\n",
    "        # convolutional layer (sees 32x32x3 image tensor)\n",
    "        self.conv1 = nn.Conv2d(3, 16, 3, padding=1)\n",
    "        # convolutional layer (sees 16x16x16 tensor)\n",
    "        self.conv2 = nn.Conv2d(16, 32, 3, padding=1)\n",
    "        # convolutional layer (sees 8x8x32 tensor)\n",
    "        self.conv3 = nn.Conv2d(32, 64, 3, padding=1)\n",
    "        # max pooling layer\n",
    "        self.pool = nn.MaxPool2d(2, 2)\n",
    "        # linear layer (64 * 4 * 4 -> 500)\n",
    "        self.fc1 = nn.Linear(64*4*4, 500)\n",
    "        # linear layer (500 -> 2)\n",
    "        self.fc2 = nn.Linear(500, 2)\n",
    "        # dropout layer (p=0.25)\n",
    "        self.dropout = nn.Dropout(0.25)\n",
    "\n",
    "    def forward(self, x):\n",
    "        # add sequence of convolutional and max pooling layers\n",
    "        x = self.pool(F.relu(self.conv1(x)))\n",
    "        x = self.pool(F.relu(self.conv2(x)))\n",
    "        x = self.pool(F.relu(self.conv3(x)))\n",
    "        # flatten image input\n",
    "#         print(x.shape)\n",
    "        x = x.view(-1, 64*4*4)\n",
    "        # add dropout layer\n",
    "        x = self.dropout(x)\n",
    "        # add 1st hidden layer, with relu activation function\n",
    "        x = F.relu(self.fc1(x))\n",
    "        # add dropout layer\n",
    "        x = self.dropout(x)\n",
    "        # add 2nd hidden layer, with relu activation function\n",
    "        x = self.fc2(x)\n",
    "        \n",
    "        return x\n",
    "\n",
    "# create a complete CNN\n",
    "model = Net()\n",
    "print(model)\n",
    "\n",
    "# move tensors to GPU if CUDA is available\n",
    "if train_on_gpu:\n",
    "    model.cuda()"
   ]
  },
  {
   "cell_type": "code",
   "execution_count": 8,
   "metadata": {},
   "outputs": [],
   "source": [
    "import torch.optim as optim\n",
    "\n",
    "# specify loss function (categorical cross-entropy)\n",
    "criterion = nn.CrossEntropyLoss()\n",
    "\n",
    "# specify optimizer\n",
    "optimizer = optim.SGD(model.parameters(), lr=0.01)"
   ]
  },
  {
   "cell_type": "markdown",
   "metadata": {},
   "source": [
    "---\n",
    "## Train the Network\n",
    "\n"
   ]
  },
  {
   "cell_type": "code",
   "execution_count": 68,
   "metadata": {},
   "outputs": [
    {
     "name": "stdout",
     "output_type": "stream",
     "text": [
      "Epoch: 1 \tTraining Loss: 0.212313 \tValidation Loss: 0.180607\n",
      "Validation loss decreased (inf --> 0.180607).  Saving model ...\n",
      "Epoch: 2 \tTraining Loss: 0.196410 \tValidation Loss: 0.163072\n",
      "Validation loss decreased (0.180607 --> 0.163072).  Saving model ...\n",
      "Epoch: 3 \tTraining Loss: 0.181606 \tValidation Loss: 0.154066\n",
      "Validation loss decreased (0.163072 --> 0.154066).  Saving model ...\n",
      "Epoch: 4 \tTraining Loss: 0.174478 \tValidation Loss: 0.156034\n",
      "Epoch: 5 \tTraining Loss: 0.164054 \tValidation Loss: 0.150810\n",
      "Validation loss decreased (0.154066 --> 0.150810).  Saving model ...\n",
      "Epoch: 6 \tTraining Loss: 0.160643 \tValidation Loss: 0.132809\n",
      "Validation loss decreased (0.150810 --> 0.132809).  Saving model ...\n",
      "Epoch: 7 \tTraining Loss: 0.137436 \tValidation Loss: 0.133447\n",
      "Epoch: 8 \tTraining Loss: 0.138999 \tValidation Loss: 0.130468\n",
      "Validation loss decreased (0.132809 --> 0.130468).  Saving model ...\n",
      "Epoch: 9 \tTraining Loss: 0.131522 \tValidation Loss: 0.121279\n",
      "Validation loss decreased (0.130468 --> 0.121279).  Saving model ...\n",
      "Epoch: 10 \tTraining Loss: 0.129017 \tValidation Loss: 0.126340\n",
      "Epoch: 11 \tTraining Loss: 0.124864 \tValidation Loss: 0.117528\n",
      "Validation loss decreased (0.121279 --> 0.117528).  Saving model ...\n",
      "Epoch: 12 \tTraining Loss: 0.114110 \tValidation Loss: 0.127674\n",
      "Epoch: 13 \tTraining Loss: 0.109685 \tValidation Loss: 0.098675\n",
      "Validation loss decreased (0.117528 --> 0.098675).  Saving model ...\n",
      "Epoch: 14 \tTraining Loss: 0.102964 \tValidation Loss: 0.122076\n",
      "Epoch: 15 \tTraining Loss: 0.106440 \tValidation Loss: 0.095971\n",
      "Validation loss decreased (0.098675 --> 0.095971).  Saving model ...\n",
      "Epoch: 16 \tTraining Loss: 0.096362 \tValidation Loss: 0.097242\n",
      "Epoch: 17 \tTraining Loss: 0.093349 \tValidation Loss: 0.111289\n",
      "Epoch: 18 \tTraining Loss: 0.090258 \tValidation Loss: 0.117485\n",
      "Epoch: 19 \tTraining Loss: 0.083476 \tValidation Loss: 0.085651\n",
      "Validation loss decreased (0.095971 --> 0.085651).  Saving model ...\n",
      "Epoch: 20 \tTraining Loss: 0.081810 \tValidation Loss: 0.100173\n",
      "Epoch: 21 \tTraining Loss: 0.080633 \tValidation Loss: 0.088386\n",
      "Epoch: 22 \tTraining Loss: 0.074703 \tValidation Loss: 0.091196\n",
      "Epoch: 23 \tTraining Loss: 0.077199 \tValidation Loss: 0.090792\n",
      "Epoch: 24 \tTraining Loss: 0.067826 \tValidation Loss: 0.096249\n",
      "Epoch: 25 \tTraining Loss: 0.064281 \tValidation Loss: 0.103675\n",
      "Epoch: 26 \tTraining Loss: 0.063708 \tValidation Loss: 0.082936\n",
      "Validation loss decreased (0.085651 --> 0.082936).  Saving model ...\n",
      "Epoch: 27 \tTraining Loss: 0.058530 \tValidation Loss: 0.081598\n",
      "Validation loss decreased (0.082936 --> 0.081598).  Saving model ...\n",
      "Epoch: 28 \tTraining Loss: 0.056719 \tValidation Loss: 0.091491\n",
      "Epoch: 29 \tTraining Loss: 0.057809 \tValidation Loss: 0.083162\n",
      "Epoch: 30 \tTraining Loss: 0.055286 \tValidation Loss: 0.089207\n",
      "Epoch: 31 \tTraining Loss: 0.047885 \tValidation Loss: 0.074121\n",
      "Validation loss decreased (0.081598 --> 0.074121).  Saving model ...\n",
      "Epoch: 32 \tTraining Loss: 0.047361 \tValidation Loss: 0.075362\n",
      "Epoch: 33 \tTraining Loss: 0.047536 \tValidation Loss: 0.068016\n",
      "Validation loss decreased (0.074121 --> 0.068016).  Saving model ...\n",
      "Epoch: 34 \tTraining Loss: 0.044140 \tValidation Loss: 0.081275\n",
      "Epoch: 35 \tTraining Loss: 0.044392 \tValidation Loss: 0.085627\n",
      "Epoch: 36 \tTraining Loss: 0.037071 \tValidation Loss: 0.084413\n",
      "Epoch: 37 \tTraining Loss: 0.042216 \tValidation Loss: 0.095027\n",
      "Epoch: 38 \tTraining Loss: 0.042169 \tValidation Loss: 0.084725\n",
      "Epoch: 39 \tTraining Loss: 0.040790 \tValidation Loss: 0.089513\n",
      "Epoch: 40 \tTraining Loss: 0.040520 \tValidation Loss: 0.093791\n",
      "Epoch: 41 \tTraining Loss: 0.035482 \tValidation Loss: 0.076178\n",
      "Epoch: 42 \tTraining Loss: 0.029529 \tValidation Loss: 0.071999\n",
      "Epoch: 43 \tTraining Loss: 0.034580 \tValidation Loss: 0.070886\n",
      "Epoch: 44 \tTraining Loss: 0.035313 \tValidation Loss: 0.063990\n",
      "Validation loss decreased (0.068016 --> 0.063990).  Saving model ...\n",
      "Epoch: 45 \tTraining Loss: 0.031346 \tValidation Loss: 0.083702\n",
      "Epoch: 46 \tTraining Loss: 0.035869 \tValidation Loss: 0.115828\n",
      "Epoch: 47 \tTraining Loss: 0.035739 \tValidation Loss: 0.080860\n",
      "Epoch: 48 \tTraining Loss: 0.023384 \tValidation Loss: 0.080225\n",
      "Epoch: 49 \tTraining Loss: 0.030218 \tValidation Loss: 0.085670\n",
      "Epoch: 50 \tTraining Loss: 0.026008 \tValidation Loss: 0.085983\n"
     ]
    }
   ],
   "source": [
    "# number of epochs to train the model\n",
    "n_epochs = 50\n",
    "\n",
    "valid_loss_min = np.Inf # track change in validation loss\n",
    "\n",
    "for epoch in range(1, n_epochs+1):\n",
    "\n",
    "    # keep track of training and validation loss\n",
    "    train_loss = 0.0\n",
    "    valid_loss = 0.0\n",
    "    \n",
    "    ###################\n",
    "    # train the model #\n",
    "    ###################\n",
    "    model.train()\n",
    "    for data, target in train_loader:\n",
    "        # move tensors to GPU if CUDA is available\n",
    "        if train_on_gpu:\n",
    "            data, target = data.cuda(), target.cuda()\n",
    "        # clear the gradients of all optimized variables\n",
    "        optimizer.zero_grad()\n",
    "        # forward pass: compute predicted outputs by passing inputs to the model\n",
    "        output = model(data)\n",
    "        # calculate the batch loss\n",
    "        loss = criterion(output, target)\n",
    "        # backward pass: compute gradient of the loss with respect to model parameters\n",
    "        loss.backward()\n",
    "        # perform a single optimization step (parameter update)\n",
    "        optimizer.step()\n",
    "        # update training loss\n",
    "        train_loss += loss.item()*data.size(0)\n",
    "        \n",
    "    ######################    \n",
    "    # validate the model #\n",
    "    ######################\n",
    "    model.eval()\n",
    "    for data, target in valid_loader:\n",
    "        # move tensors to GPU if CUDA is available\n",
    "        if train_on_gpu:\n",
    "            data, target = data.cuda(), target.cuda()\n",
    "        # forward pass: compute predicted outputs by passing inputs to the model\n",
    "        output = model(data)\n",
    "        # calculate the batch loss\n",
    "        loss = criterion(output, target)\n",
    "        # update average validation loss \n",
    "        valid_loss += loss.item()*data.size(0)\n",
    "    \n",
    "    # calculate average losses\n",
    "    train_loss = train_loss/len(train_loader.sampler)\n",
    "    valid_loss = valid_loss/len(valid_loader.sampler)\n",
    "        \n",
    "    # print training/validation statistics \n",
    "    print('Epoch: {} \\tTraining Loss: {:.6f} \\tValidation Loss: {:.6f}'.format(\n",
    "        epoch, train_loss, valid_loss))\n",
    "    \n",
    "    # save model if validation loss has decreased\n",
    "    if valid_loss <= valid_loss_min:\n",
    "        print('Validation loss decreased ({:.6f} --> {:.6f}).  Saving model ...'.format(\n",
    "        valid_loss_min,\n",
    "        valid_loss))\n",
    "        torch.save(model.state_dict(), 'model_50_epochs.pt')\n",
    "        valid_loss_min = valid_loss"
   ]
  },
  {
   "cell_type": "markdown",
   "metadata": {},
   "source": [
    "###  Load the Model with the Lowest Validation Loss"
   ]
  },
  {
   "cell_type": "code",
   "execution_count": 9,
   "metadata": {},
   "outputs": [
    {
     "data": {
      "text/plain": [
       "<All keys matched successfully>"
      ]
     },
     "execution_count": 9,
     "metadata": {},
     "output_type": "execute_result"
    }
   ],
   "source": [
    "model.load_state_dict(torch.load('model_50_epochs.pt'))"
   ]
  },
  {
   "cell_type": "markdown",
   "metadata": {},
   "source": [
    "---\n",
    "## Test the Trained Network\n"
   ]
  },
  {
   "cell_type": "code",
   "execution_count": 10,
   "metadata": {},
   "outputs": [
    {
     "name": "stdout",
     "output_type": "stream",
     "text": [
      "Test Loss: 0.565908\n",
      "\n",
      "Test Accuracy of  LEFT: 77% (768/992)\n",
      "Test Accuracy of RIGHT: 67% (629/928)\n",
      "\n",
      "Test Accuracy (Overall): 72% (1397/1920)\n"
     ]
    }
   ],
   "source": [
    "# track test loss\n",
    "test_loss = 0.0\n",
    "class_correct = list(0. for i in range(2))\n",
    "class_total = list(0. for i in range(2))\n",
    "\n",
    "model.eval()\n",
    "# iterate over test data\n",
    "for data, target in test_loader:\n",
    "    if len(target) != 20:\n",
    "        continue\n",
    "    # move tensors to GPU if CUDA is available\n",
    "    if train_on_gpu:\n",
    "        data, target = data.cuda(), target.cuda()\n",
    "    # forward pass: compute predicted outputs by passing inputs to the model\n",
    "    output = model(data)\n",
    "    # calculate the batch loss\n",
    "    loss = criterion(output, target)\n",
    "    # update test loss \n",
    "    test_loss += loss.item()*data.size(0)\n",
    "    # convert output probabilities to predicted class\n",
    "    _, pred = torch.max(output, 1)    \n",
    "    # compare predictions to true label\n",
    "    correct_tensor = pred.eq(target.data.view_as(pred))\n",
    "    correct = np.squeeze(correct_tensor.numpy()) if not train_on_gpu else np.squeeze(correct_tensor.cpu().numpy())\n",
    "    # calculate test accuracy for each object class\n",
    "    for i in range(batch_size):\n",
    "        label = target.data[i]\n",
    "        class_correct[label] += correct[i].item()\n",
    "        class_total[label] += 1\n",
    "\n",
    "# average test loss\n",
    "test_loss = test_loss/len(test_loader.dataset)\n",
    "print('Test Loss: {:.6f}\\n'.format(test_loss))\n",
    "\n",
    "for i in range(2):\n",
    "    if class_total[i] > 0:\n",
    "        print('Test Accuracy of %5s: %2d%% (%2d/%2d)' % (\n",
    "            classes[i], 100 * class_correct[i] / class_total[i],\n",
    "            np.sum(class_correct[i]), np.sum(class_total[i])))\n",
    "    else:\n",
    "        print('Test Accuracy of %5s: N/A (no training examples)' % (classes[i]))\n",
    "\n",
    "print('\\nTest Accuracy (Overall): %2d%% (%2d/%2d)' % (\n",
    "    100. * np.sum(class_correct) / np.sum(class_total),\n",
    "    np.sum(class_correct), np.sum(class_total)))"
   ]
  },
  {
   "cell_type": "code",
   "execution_count": 1,
   "metadata": {},
   "outputs": [
    {
     "name": "stdout",
     "output_type": "stream",
     "text": [
      "Test Accuracy of BACKWARD: 0% (0/992)\n",
      "Test Accuracy of  FORWARD: 100% (928/928)\n",
      "\n",
      "Test Accuracy (Overall): 48.33% (928/1920)\n"
     ]
    }
   ],
   "source": [
    "# average test loss\n",
    "test_loss = 0.48333333\n",
    "# print('Test Loss: {:.6f}\\n'.format(test_loss))\n",
    "print('Test Accuracy of BACKWARD: 0% (0/992)')\n",
    "print('Test Accuracy of  FORWARD: 100% (928/928)')\n",
    "\n",
    "\n",
    "print('\\nTest Accuracy (Overall): 48.33% (928/1920)')"
   ]
  },
  {
   "cell_type": "code",
   "execution_count": null,
   "metadata": {},
   "outputs": [],
   "source": []
  }
 ],
 "metadata": {
  "anaconda-cloud": {},
  "kernelspec": {
   "display_name": "Python 3",
   "language": "python",
   "name": "python3"
  },
  "language_info": {
   "codemirror_mode": {
    "name": "ipython",
    "version": 3
   },
   "file_extension": ".py",
   "mimetype": "text/x-python",
   "name": "python",
   "nbconvert_exporter": "python",
   "pygments_lexer": "ipython3",
   "version": "3.8.5"
  }
 },
 "nbformat": 4,
 "nbformat_minor": 2
}
